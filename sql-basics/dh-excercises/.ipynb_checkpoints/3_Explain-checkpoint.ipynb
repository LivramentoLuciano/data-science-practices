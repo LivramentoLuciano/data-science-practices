{
 "cells": [
  {
   "cell_type": "markdown",
   "id": "f75911a6",
   "metadata": {},
   "source": [
    "1. **Seleccionar los order details con un precio mayor a 10 inspeccionando el plan de ejecución.**"
   ]
  },
  {
   "cell_type": "code",
   "execution_count": null,
   "id": "b913682c",
   "metadata": {},
   "outputs": [],
   "source": [
    "EXPLAIN ANALYZE\n",
    "SELECT *\n",
    "FROM order_details\n",
    "WHERE (\"Quantity\" * \"UnitPrice\") > 10"
   ]
  },
  {
   "cell_type": "markdown",
   "id": "736e8aca",
   "metadata": {},
   "source": [
    "2. **Crear un ínidce de tipo b-tree sobre el campo UnitPrice de la tabla order details.**"
   ]
  },
  {
   "cell_type": "code",
   "execution_count": null,
   "id": "8a833afc",
   "metadata": {},
   "outputs": [],
   "source": [
    "# TODO"
   ]
  },
  {
   "cell_type": "markdown",
   "id": "4db8d8f8",
   "metadata": {},
   "source": [
    "3. **Ejecutar la misma consulta inspeccionando el plan de ejecución.**"
   ]
  },
  {
   "cell_type": "code",
   "execution_count": null,
   "id": "9fd58b05",
   "metadata": {},
   "outputs": [],
   "source": [
    "# TODO"
   ]
  },
  {
   "cell_type": "markdown",
   "id": "96f42ebe",
   "metadata": {},
   "source": [
    "4. **Eliminar el índice.**"
   ]
  },
  {
   "cell_type": "code",
   "execution_count": null,
   "id": "145aa0cf",
   "metadata": {},
   "outputs": [],
   "source": [
    "# TODO"
   ]
  }
 ],
 "metadata": {
  "kernelspec": {
   "display_name": "Python 3 (ipykernel)",
   "language": "python",
   "name": "python3"
  },
  "language_info": {
   "codemirror_mode": {
    "name": "ipython",
    "version": 3
   },
   "file_extension": ".py",
   "mimetype": "text/x-python",
   "name": "python",
   "nbconvert_exporter": "python",
   "pygments_lexer": "ipython3",
   "version": "3.10.2"
  }
 },
 "nbformat": 4,
 "nbformat_minor": 5
}
