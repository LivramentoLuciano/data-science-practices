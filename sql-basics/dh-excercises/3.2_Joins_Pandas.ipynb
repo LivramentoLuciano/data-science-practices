{
 "cells": [
  {
   "cell_type": "markdown",
   "metadata": {},
   "source": [
    "# Uso de SQL y Pandas\n",
    "Realizaremos consultas SQL (como hemos venido trabajando) pero, además, plantearemos la solución equivalente a los distintos problemas empleando métodos de Pandas (operaciones con *Dataframes*)"
   ]
  },
  {
   "cell_type": "markdown",
   "metadata": {},
   "source": [
    "DER de la base de datos Northwind\n",
    "\n",
    "<img src='https://www.campusmvp.es/recursos/image.axd?picture=Northwind_Tablas.png' />"
   ]
  },
  {
   "cell_type": "markdown",
   "metadata": {
    "colab_type": "text",
    "id": "asp_8gEVHxrF"
   },
   "source": [
    "### 1. Productos\n",
    "\n",
    "¿Qué productos está vendiendo la compañia? Las tablas `products` y `categories` contienen información para responder a esta pregunta.\n",
    "\n",
    "Utilizar una combinación de consultas SQL y Pandas *merge* para responder las siguientes preguntas:\n",
    "\n",
    "1. ¿Qué categorías de productos vende la compañia?\n",
    "2. ¿Cuántos productos por categoría contiene el catálogo?\n",
    "3. Focalizarse sólo en los productos que no han sido discontinuados ¿Cuántos de ellos hay por categoría?\n",
    "4. ¿Cuáles son los 5 productos (no discontinuados) más caros?\n",
    "5. ¿Cuántas unidades de cada uno de esos 5 productos se encuentran en stock?\n",
    "6. Realizar un gráfico de torta de las categorías, cuyas porciones representen el número de productos en esa categoría (sólo para aquellos no discontinuados)."
   ]
  },
  {
   "cell_type": "markdown",
   "metadata": {
    "colab_type": "text",
    "id": "qp2V3d-XHxrG"
   },
   "source": [
    "### 1.1 ¿Qué categorías de productos vende la compañia?\n",
    "\n",
    "Recordar que se puede guardar un resultado `%sql`  en una estructura *Pandas* utilizando el método `.DataFrame()`."
   ]
  },
  {
   "cell_type": "code",
   "execution_count": null,
   "metadata": {},
   "outputs": [],
   "source": [
    "%%sql\n",
    "SELECT *\n",
    "FROM Categories;"
   ]
  },
  {
   "cell_type": "code",
   "execution_count": 6,
   "metadata": {
    "colab": {
     "autoexec": {
      "startup": false,
      "wait_interval": 0
     },
     "base_uri": "https://localhost:8080/",
     "height": 335
    },
    "colab_type": "code",
    "executionInfo": {
     "elapsed": 813,
     "status": "ok",
     "timestamp": 1532119370944,
     "user": {
      "displayName": "Demian Avendaño",
      "photoUrl": "https://lh3.googleusercontent.com/a/default-user=s128",
      "userId": "100645021322944877501"
     },
     "user_tz": 180
    },
    "id": "Nb7eZV1DHxrI",
    "outputId": "09fe1f35-765d-4f8d-d840-53e89db49a47"
   },
   "outputs": [],
   "source": [
    "categories_sql = %sql SELECT * FROM Categories;\n",
    "categories_table = categories_sql.DataFrame()"
   ]
  },
  {
   "cell_type": "markdown",
   "metadata": {
    "colab_type": "text",
    "id": "_z78_7PEHxrb"
   },
   "source": [
    "### 1.2 ¿Cuántos productos por categoría contiene el catálogo?"
   ]
  },
  {
   "cell_type": "code",
   "execution_count": null,
   "metadata": {},
   "outputs": [],
   "source": [
    "# Utilizando SQL directo\n",
    "prods_by_catg = %sql SELECT \"CategoryID\", COUNT(*) FROM Products GROUP BY \"CategoryID\";"
   ]
  },
  {
   "cell_type": "code",
   "execution_count": null,
   "metadata": {
    "colab": {
     "autoexec": {
      "startup": false,
      "wait_interval": 0
     },
     "base_uri": "https://localhost:8080/",
     "height": 254
    },
    "colab_type": "code",
    "executionInfo": {
     "elapsed": 802,
     "status": "error",
     "timestamp": 1532119373884,
     "user": {
      "displayName": "Demian Avendaño",
      "photoUrl": "https://lh3.googleusercontent.com/a/default-user=s128",
      "userId": "100645021322944877501"
     },
     "user_tz": 180
    },
    "id": "k-lca_SPHxrd",
    "outputId": "0847f6e4-dba8-4351-c903-8513b399de4d"
   },
   "outputs": [],
   "source": [
    "# Utilizando Pandas Merge\n",
    "products = %sql SELECT * FROM Products;\n",
    "products_table = products.DataFrame()\n",
    "\n",
    "result = pd.merge(categories_table, products_table, on=\"CategoryID\")\n",
    "result.groupby(\"CategoryName\").size()"
   ]
  },
  {
   "cell_type": "markdown",
   "metadata": {
    "colab_type": "text",
    "id": "cbWSoOe4Hxrv"
   },
   "source": [
    "### 1.3 Focalizarse sólo en los productos que no han sido discontinuados ¿Cuántos de ellos hay por categoría?"
   ]
  },
  {
   "cell_type": "code",
   "execution_count": null,
   "metadata": {
    "colab": {
     "autoexec": {
      "startup": false,
      "wait_interval": 0
     }
    },
    "colab_type": "code",
    "id": "z5hTw4VbHxrx",
    "outputId": "c022a3a8-ec3b-4b2e-e7d8-0770bf53611e"
   },
   "outputs": [],
   "source": [
    "# Utilizando SQL solamente\n",
    "%%sql\n",
    "SELECT \"CategoryID\", COUNT(*) AS NumActiveProds\n",
    "FROM Products\n",
    "WHERE \"Discontinued\" = False\n",
    "GROUP BY \"CategoryID\";"
   ]
  },
  {
   "cell_type": "code",
   "execution_count": null,
   "metadata": {
    "colab": {
     "autoexec": {
      "startup": false,
      "wait_interval": 0
     }
    },
    "colab_type": "code",
    "id": "zIL5fk_hHxr3",
    "outputId": "e1fb8d4b-a1d2-4bfb-cb26-df5986a5bf3d"
   },
   "outputs": [],
   "source": [
    "# Reutilizando el Dataframe del Merge Prods/Categs del item anterior\n",
    "result.query(\"Discontinued == 0\").groupby(\"CategoryName\").size()"
   ]
  },
  {
   "cell_type": "markdown",
   "metadata": {
    "colab_type": "text",
    "id": "4QsJt5qUHxr8"
   },
   "source": [
    "### 1.4 ¿Cuáles son los 5 productos (no discontinuados) más caros?"
   ]
  },
  {
   "cell_type": "code",
   "execution_count": null,
   "metadata": {
    "colab": {
     "autoexec": {
      "startup": false,
      "wait_interval": 0
     }
    },
    "colab_type": "code",
    "id": "GSzk27lGHxr-",
    "outputId": "39b36630-567f-4f9d-9cd2-cdcf49585da7"
   },
   "outputs": [],
   "source": [
    "# Utilizando SQL solamente\n",
    "%%sql\n",
    "SELECT \"ProductName\", \"UnitPrice\"\n",
    "FROM Products\n",
    "WHERE \"Discontinued\" = False\n",
    "ORDER BY \"UnitPrice\" DESC\n",
    "LIMIT 5;"
   ]
  },
  {
   "cell_type": "code",
   "execution_count": null,
   "metadata": {
    "colab": {
     "autoexec": {
      "startup": false,
      "wait_interval": 0
     }
    },
    "colab_type": "code",
    "id": "oH6gO6OuHxsH",
    "outputId": "b57e3766-5367-4847-96c5-2438bcb52b76"
   },
   "outputs": [],
   "source": [
    "# Reutilizando DataFrame de Products (Pandas)\n",
    "result.query(\"Discontinued == 0\")\n",
    "      .sort_values(by=['UnitPrice'], ascending=False)\n",
    "      .head()[['ProductName', 'UnitPrice']]"
   ]
  },
  {
   "cell_type": "markdown",
   "metadata": {
    "colab_type": "text",
    "id": "D71JMx7VHxsO"
   },
   "source": [
    "### 1.5 ¿Cuántas unidades de cada uno de esos 5 productos se encuentran en stock?"
   ]
  },
  {
   "cell_type": "code",
   "execution_count": null,
   "metadata": {
    "colab": {
     "autoexec": {
      "startup": false,
      "wait_interval": 0
     }
    },
    "colab_type": "code",
    "id": "19IytZgWHxsR",
    "outputId": "d5317183-25c8-4eb5-9481-3c3d9ebd5cf5"
   },
   "outputs": [],
   "source": [
    "# Aplico Subquery para practicarlo simplemente\n",
    "%%sql\n",
    "SELECT ep.\"ProductsName\", ep.\"UnitsStock\"\n",
    "FROM (\n",
    "    SELECT \"ProductName\", \"UnitPrice\", \"UnitsInStock\"\n",
    "    FROM Products\n",
    "    WHERE \"Discontinued\" = False\n",
    "    ORDER BY \"UnitPrice\" DESC\n",
    "    LIMIT 5;\n",
    ") AS ep;"
   ]
  },
  {
   "cell_type": "code",
   "execution_count": null,
   "metadata": {
    "colab": {
     "autoexec": {
      "startup": false,
      "wait_interval": 0
     }
    },
    "colab_type": "code",
    "id": "3Q3JRjs1HxsW",
    "outputId": "bb30244e-6297-44f7-9889-c56041037d5c"
   },
   "outputs": [],
   "source": [
    "products_table..query(\"Discontinued == 0\")\n",
    "      .sort_values(by=['UnitPrice'], ascending=False)\n",
    "      .head()[['ProductName', 'UnitsInStock']]"
   ]
  },
  {
   "cell_type": "markdown",
   "metadata": {
    "colab_type": "text",
    "id": "vBkAg5gkHxsh"
   },
   "source": [
    "### 1.6 Gráfico de torta\n",
    "Realizar un gráfico de torta de las categorías, cuyas porciones representen el número de productos en esa categoría (sólo aquellos no discontinuados)."
   ]
  },
  {
   "cell_type": "code",
   "execution_count": null,
   "metadata": {
    "colab": {
     "autoexec": {
      "startup": false,
      "wait_interval": 0
     }
    },
    "colab_type": "code",
    "id": "0wNg0IghHxsj",
    "outputId": "9ab80db7-7975-4566-ce53-24235bb53f4c"
   },
   "outputs": [],
   "source": [
    "prods_by_catg = result.query(\"Discontinued == 0\").groupby(\"CategoryName\").size()"
   ]
  },
  {
   "cell_type": "code",
   "execution_count": null,
   "metadata": {},
   "outputs": [],
   "source": [
    "fig1, ax1 = plt.subplots()\n",
    "ax1.pie(prods_by_catg.values, labels=prods_by_catg.index)\n",
    "ax1.axis('equal')  # Equal aspect ratio ensures that pie is drawn as a circle.\n",
    "\n",
    "plt.show()"
   ]
  },
  {
   "cell_type": "code",
   "execution_count": null,
   "metadata": {},
   "outputs": [],
   "source": [
    "# otra forma\n",
    "products_by_catg.plot.pie(\n",
    "    labels=products_by_catg.index,\n",
    "    subplots=True,\n",
    "    autopct='%.2f',\n",
    "    figsize=(6, 6)\n",
    ")"
   ]
  },
  {
   "cell_type": "markdown",
   "metadata": {
    "colab_type": "text",
    "id": "PONcC-IkHxsv"
   },
   "source": [
    "## 2. Ordenes\n",
    "\n",
    "Una vez comprendidos los productos de la compañia, se comienza a indagar en la información de las órdenes.\n",
    "\n",
    "1. ¿Cuántas órdenes hay en total?\n",
    "2. ¿Cuántas órdenes por año?\n",
    "3. ¿Cuántas órdenes por trimestre?\n",
    "4. ¿Qué país está recibiendo la mayor cantidad de órdenes?\n",
    "5. ¿Qué país está recibiendo la menor cantidad de órdenes?\n",
    "6. ¿Cuál es el tiempo promedio de envío (ShippedDate - OrderDate)?\n",
    "7. ¿Qué cliente está realizando la mayor cantidad de órdenes?\n",
    "8. ¿Qué cliente está generando los mayores ingresos? (es necesario relacionar con *order_details* mediante *pd.merge*)\n",
    "9. ¿Qué fracción de los ingresos es generada por el top 5 de clientes?"
   ]
  },
  {
   "cell_type": "markdown",
   "metadata": {
    "colab_type": "text",
    "id": "gciqZOHjHxs0"
   },
   "source": [
    "### 2.1 ¿Cuántas órdenes hay en total?"
   ]
  },
  {
   "cell_type": "code",
   "execution_count": null,
   "metadata": {
    "colab": {
     "autoexec": {
      "startup": false,
      "wait_interval": 0
     }
    },
    "colab_type": "code",
    "id": "n_u069FkHxs2"
   },
   "outputs": [],
   "source": [
    "%%sql\n",
    "SELECT COUNT(*) AS TotalOrders\n",
    "FROM Orders;"
   ]
  },
  {
   "cell_type": "code",
   "execution_count": null,
   "metadata": {
    "colab": {
     "autoexec": {
      "startup": false,
      "wait_interval": 0
     }
    },
    "colab_type": "code",
    "id": "DVb2IFz3Hxs7",
    "outputId": "258ed2fa-6620-41ea-a926-472ef9d2b9e2"
   },
   "outputs": [],
   "source": [
    "# Usando Pandas DataFrame\n",
    "orders_sql = %sql SELECT * FROM Orders;\n",
    "orders_table = orders_sql.DataFrame()\n",
    "\n",
    "# cantidad de ordenes\n",
    "orders_table.shape[0]"
   ]
  },
  {
   "cell_type": "markdown",
   "metadata": {
    "colab_type": "text",
    "id": "Suvt_vD2HxtE"
   },
   "source": [
    "### 2.2 ¿Cuántas órdenes por año?"
   ]
  },
  {
   "cell_type": "code",
   "execution_count": null,
   "metadata": {
    "colab": {
     "autoexec": {
      "startup": false,
      "wait_interval": 0
     }
    },
    "colab_type": "code",
    "id": "RTE0mVNFHxtG",
    "outputId": "6c598b5c-4915-4472-f104-93e57306b11a"
   },
   "outputs": [],
   "source": [
    "%%sql\n",
    "SELECT EXTRACT(YEAR FROM \"OrderDate\") AS Year, COUNT(*) AS NumOrders\n",
    "FROM Orders\n",
    "GROUP BY Year\n",
    "ORDER BY Year DESC;\n",
    "\n",
    "# si quisiera tmb discriminar por mes\n",
    "%%sql\n",
    "SELECT EXTRACT(YEAR FROM \"OrderDate\") AS Year,\n",
    "       EXTRACT(MONTH FROM \"OrderDate\") AS Month\n",
    "       COUNT(*) AS NumOrders\n",
    "FROM Orders\n",
    "GROUP BY Year, Month\n",
    "ORDER BY Year DESC, Month DESC;"
   ]
  },
  {
   "cell_type": "code",
   "execution_count": null,
   "metadata": {
    "colab": {
     "autoexec": {
      "startup": false,
      "wait_interval": 0
     }
    },
    "colab_type": "code",
    "id": "bIzpTMsMHxtU"
   },
   "outputs": [],
   "source": [
    "# usando Pandas Dataframe\n",
    "orders_table.groupby(\n",
    "    orders_table([\"OrderDate\"]).map(lambda x: x.strftime('%Y'))\n",
    ").size()"
   ]
  },
  {
   "cell_type": "markdown",
   "metadata": {
    "colab_type": "text",
    "id": "y7PRC9MKHxtd"
   },
   "source": [
    "### 2.3 ¿Cuántas órdenes por trimestre?\n",
    "\n",
    "Realizar un gráfico de linea para estas órdenes."
   ]
  },
  {
   "cell_type": "code",
   "execution_count": null,
   "metadata": {
    "colab": {
     "autoexec": {
      "startup": false,
      "wait_interval": 0
     }
    },
    "colab_type": "code",
    "id": "oN3RhHmqHxte",
    "outputId": "e5db0ace-895f-4f02-a59f-581b8bb9cac8"
   },
   "outputs": [],
   "source": [
    "%%sql\n",
    "SELECT EXTRACT(YEAR FROM \"OrderDate\") AS Year,\n",
    "       round(datepart(\"month\", \"OrderDate\")/4) + 1 AS Trimester,\n",
    "       COUNT(*) AS NumOrders\n",
    "FROM Orders\n",
    "GROUP BY Year, Trimester\n",
    "ORDER BY Year, Trimester;"
   ]
  },
  {
   "cell_type": "code",
   "execution_count": null,
   "metadata": {},
   "outputs": [],
   "source": [
    "# guardao el resultado en un Dataframe y lo grafico\n",
    "orders_by_trim_sql = %sql SELECT EXTRACT(YEAR FROM \"OrderDate\") AS Year, \\\n",
    "       round(datepart(\"month\", \"OrderDate\")/4) + 1 AS Trimester, \\\n",
    "       COUNT(*) AS NumOrders \\\n",
    "FROM Orders \\\n",
    "GROUP BY Year, Trimester \\\n",
    "ORDER BY Year, Trimester;\n",
    "\n",
    "orders_by_trim = orders_by_trim_sql.DataFrame()\n",
    "orders_by_trim"
   ]
  },
  {
   "cell_type": "code",
   "execution_count": null,
   "metadata": {},
   "outputs": [],
   "source": [
    "# todo: plot"
   ]
  },
  {
   "cell_type": "markdown",
   "metadata": {
    "colab_type": "text",
    "id": "9yMlVn2kHxtn"
   },
   "source": [
    "### 2.4 ¿Qué país está recibiendo la mayor cantidad de órdenes?"
   ]
  },
  {
   "cell_type": "code",
   "execution_count": null,
   "metadata": {
    "colab": {
     "autoexec": {
      "startup": false,
      "wait_interval": 0
     }
    },
    "colab_type": "code",
    "id": "ThAomG_HHxtp",
    "outputId": "64d77836-fd36-4d14-aaaf-9c8252f3c95f"
   },
   "outputs": [],
   "source": [
    "%%sql\n",
    "SELECT \"ShipCountry\", COUNT(*) AS NumOrders\n",
    "FROM Orders\n",
    "GROUP BY \"ShipCountry\"\n",
    "ORDER BY NumOrders DESC\n",
    "LIMIT 1;"
   ]
  },
  {
   "cell_type": "code",
   "execution_count": null,
   "metadata": {
    "colab": {
     "autoexec": {
      "startup": false,
      "wait_interval": 0
     }
    },
    "colab_type": "code",
    "id": "PoNV76AUHxts"
   },
   "outputs": [],
   "source": [
    "orders_table.groupby(\"ShipCountry\").size().nlargest(1)"
   ]
  },
  {
   "cell_type": "markdown",
   "metadata": {
    "colab_type": "text",
    "id": "rqYIasukHxtw"
   },
   "source": [
    "### 2.5 ¿Qué país está recibiendo la menor cantidad de órdenes?"
   ]
  },
  {
   "cell_type": "code",
   "execution_count": null,
   "metadata": {
    "colab": {
     "autoexec": {
      "startup": false,
      "wait_interval": 0
     }
    },
    "colab_type": "code",
    "id": "QSKtUcQIHxtx",
    "outputId": "720427e6-8683-4e17-889c-7b9c564ce47e"
   },
   "outputs": [],
   "source": [
    "%%sql\n",
    "SELECT \"ShipCountry\", COUNT(*) AS NumOrders\n",
    "FROM Orders\n",
    "GROUP BY \"ShipCountry\"\n",
    "ORDER BY NumOrders ASC\n",
    "LIMIT 1;"
   ]
  },
  {
   "cell_type": "code",
   "execution_count": null,
   "metadata": {
    "colab": {
     "autoexec": {
      "startup": false,
      "wait_interval": 0
     }
    },
    "colab_type": "code",
    "id": "2QSHhxABHxt1"
   },
   "outputs": [],
   "source": [
    "orders_table.groupby(\"ShipCountry\").size().nsmallest(1)"
   ]
  },
  {
   "cell_type": "markdown",
   "metadata": {
    "colab_type": "text",
    "id": "BDtPoBkvHxt5"
   },
   "source": [
    "### 2.6 ¿Cuál es el tiempo promedio de envío (ShippedDate - OrderDate)?"
   ]
  },
  {
   "cell_type": "code",
   "execution_count": null,
   "metadata": {
    "colab": {
     "autoexec": {
      "startup": false,
      "wait_interval": 0
     }
    },
    "colab_type": "code",
    "id": "A83HCstrHxt5",
    "outputId": "a4aca4ae-a811-4f88-bd13-ae323eba6f3d"
   },
   "outputs": [],
   "source": [
    "%%sql\n",
    "SELECT AVG(\"ShippedDate\" - \"OrderDate\")\n",
    "FROM Orders;"
   ]
  },
  {
   "cell_type": "code",
   "execution_count": null,
   "metadata": {
    "colab": {
     "autoexec": {
      "startup": false,
      "wait_interval": 0
     }
    },
    "colab_type": "code",
    "id": "wH1MCTZtHxt9"
   },
   "outputs": [],
   "source": [
    "import numpy as np\n",
    "\n",
    "# Demora en nanosegundos\n",
    "# avg_shipp_time = (orders_table[\"ShippedDate\"] - orders_table[\"ShippedDate\"]).sum() / orders_table[\"OrderID\"].count()\n",
    "avg_shp_time = (orders_table[\"ShippedDate\"] - orders_table[\"ShippedDate\"]).mean()\n",
    "\n",
    "# Convierto a Dias\n",
    "avg_shp_days = avg_shp_time.astype('timedelta64[D]')\n",
    "avg_shp_days = avg_shp_days / np.timedelta64(1, 'D')"
   ]
  },
  {
   "cell_type": "markdown",
   "metadata": {
    "colab_type": "text",
    "id": "-ddyVy_IHxuA"
   },
   "source": [
    "### 2.7 ¿Qué cliente está realizando la mayor cantidad de órdenes?"
   ]
  },
  {
   "cell_type": "code",
   "execution_count": null,
   "metadata": {
    "colab": {
     "autoexec": {
      "startup": false,
      "wait_interval": 0
     }
    },
    "colab_type": "code",
    "id": "tESZ7V0VHxuC",
    "outputId": "6976ea12-86ee-4a2a-8338-58a72b86f80b"
   },
   "outputs": [],
   "source": [
    "%%sql\n",
    "SELECT \"CustomerID\", COUNT(*) AS NumOrders\n",
    "FROM Orders\n",
    "GROUP BY \"CustomerID\"\n",
    "ORDER BY NumOrders DESC\n",
    "LIMIT 1;"
   ]
  },
  {
   "cell_type": "code",
   "execution_count": null,
   "metadata": {
    "colab": {
     "autoexec": {
      "startup": false,
      "wait_interval": 0
     }
    },
    "colab_type": "code",
    "id": "B7vSjB9xHxuW"
   },
   "outputs": [],
   "source": [
    "orders_table.groupby(\"CustomerID\").size().nlargest(1)"
   ]
  },
  {
   "cell_type": "markdown",
   "metadata": {
    "colab_type": "text",
    "id": "HzKp3OWmHxuc"
   },
   "source": [
    "### 2.8 ¿Qué cliente está generando los mayores ingresos?"
   ]
  },
  {
   "cell_type": "code",
   "execution_count": null,
   "metadata": {
    "colab": {
     "autoexec": {
      "startup": false,
      "wait_interval": 0
     }
    },
    "colab_type": "code",
    "id": "e-sXBV-UHxug",
    "outputId": "f0c2d137-5aa9-4888-b815-f90fcfa7c411"
   },
   "outputs": [],
   "source": [
    "%%sql\n",
    "SELECT o.\"CustomerID\",\n",
    "       SUM(od.\"UnitPrice\" * od.\"Quantity\" * (1 - od.\"Discount\")) AS CustomerTotal\n",
    "FROM Orders AS o\n",
    "INNER JOIN order_datails AS od ON o.\"OrderID\" = od.\"OrderID\"\n",
    "GROUP BY o.\"CustomerID\"\n",
    "ORDER BY CustomerTotal DESC\n",
    "LIMIT 1;"
   ]
  },
  {
   "cell_type": "code",
   "execution_count": null,
   "metadata": {
    "colab": {
     "autoexec": {
      "startup": false,
      "wait_interval": 0
     }
    },
    "colab_type": "code",
    "id": "-Hrb_O1VHxuo"
   },
   "outputs": [],
   "source": [
    "# utilizando Pandas Dataframe\n",
    "# Debo merge Orders y OrdersDetails\n",
    "order_details_sql = %sql SELECT * FROM order_details; \n",
    "order_details_table = order_details_sql.DataFrame()\n",
    "\n",
    "orders_with_details = pd.merge(orders_table, order_details_table, on=\"OrderID\")\n",
    "\n",
    "# genero los totales de cada item (detail_order)\n",
    "orders_with_details[\"DetailTotal\"] = orders_with_details[\"UnitPrice\"] * orders_with_details[\"Quantity\"] * (1-orders_with_details[\"Discount\"])\n",
    "\n",
    "total_by_customer = orderS_with_details.groupby(\"CustomerID\")[\"DetailTotal\"].sum()\n",
    "best_client = total_by_customer.nlargest(1, column=\"Total\")\n",
    "best_client"
   ]
  },
  {
   "cell_type": "markdown",
   "metadata": {
    "colab_type": "text",
    "id": "kQOWAtgGHxuu"
   },
   "source": [
    "### 2.9 ¿Qué fracción de los ingresos es generada por el top 5 de clientes?"
   ]
  },
  {
   "cell_type": "code",
   "execution_count": 2,
   "metadata": {
    "colab": {
     "autoexec": {
      "startup": false,
      "wait_interval": 0
     }
    },
    "colab_type": "code",
    "id": "GLXrkH4dHxuu"
   },
   "outputs": [],
   "source": [
    "total_income = total_by_customer.sum()\n",
    "top_clients_income = total_by_customer.nlargest(5, column=\"Total\").sum()\n",
    "\n",
    "# porcentaje que representan ingresos de los top 5 sobre el total\n",
    "top_percentage_total = top_clients_income/total_income * 100\n",
    "print(\"El top 5 de clientes representa un {:.2f}\\% de los ingresos.\".format(top_percentage_total))\n",
    "\n",
    "# cuanto representa de mi cartera 5 clientes\n",
    "num_clients = total_by_customer.count()\n",
    "five_clients_perc_total = 5/num_clients * 100;\n",
    "print(\"Estos 5 clientes representan un {:.2f}\\% de mi cartera total\".format(five_clients_perc_total))"
   ]
  }
 ],
 "metadata": {
  "colab": {
   "collapsed_sections": [
    "SzZCxyzbf9i7",
    "adaAavqdHxqx",
    "QwuTZU2dHxq5",
    "qp2V3d-XHxrG",
    "_z78_7PEHxrb",
    "cbWSoOe4Hxrv",
    "4QsJt5qUHxr8",
    "D71JMx7VHxsO",
    "vBkAg5gkHxsh",
    "gciqZOHjHxs0",
    "Suvt_vD2HxtE",
    "y7PRC9MKHxtd",
    "9yMlVn2kHxtn",
    "rqYIasukHxtw",
    "BDtPoBkvHxt5",
    "-ddyVy_IHxuA",
    "HzKp3OWmHxuc",
    "kQOWAtgGHxuu"
   ],
   "default_view": {},
   "name": "1.PracticaGuiada_Joins_Subqueries.ipynb",
   "provenance": [],
   "version": "0.3.2",
   "views": {}
  },
  "kernelspec": {
   "display_name": "Python 3 (ipykernel)",
   "language": "python",
   "name": "python3"
  },
  "language_info": {
   "codemirror_mode": {
    "name": "ipython",
    "version": 3
   },
   "file_extension": ".py",
   "mimetype": "text/x-python",
   "name": "python",
   "nbconvert_exporter": "python",
   "pygments_lexer": "ipython3",
   "version": "3.10.2"
  }
 },
 "nbformat": 4,
 "nbformat_minor": 1
}
