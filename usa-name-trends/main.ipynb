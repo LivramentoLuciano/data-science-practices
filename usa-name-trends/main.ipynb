{
 "cells": [
  {
   "cell_type": "markdown",
   "id": "6b18be7e",
   "metadata": {},
   "source": [
    "# Buscador de tendencias de nombres en Estados Unidos (1910-2020)\n",
    "\n",
    "## Carga de datos"
   ]
  },
  {
   "cell_type": "code",
   "execution_count": 1,
   "id": "b7cac375",
   "metadata": {
    "tags": [
     "hide-input"
    ]
   },
   "outputs": [],
   "source": [
    "# librerias a utilizar\n",
    "import pandas as pd\n",
    "from google.cloud import bigquery\n",
    "import matplotlib.pyplot as plt\n",
    "%matplotlib inline\n",
    "import seaborn as sns\n",
    "import ipywidgets as widgets\n",
    "\n",
    "# cliente bigquery para consultar database\n",
    "client = bigquery.Client()\n",
    "\n",
    "# Cargo la tabla de nombres que me interesa\n",
    "dataset_ref = client.dataset('usa_names', project='bigquery-public-data')\n",
    "table_ref = dataset_ref.table('usa_1910_current')\n",
    "names_table = client.get_table(table_ref)\n",
    "                               \n",
    "# Cabecera de la tabla, para inspeccionar datos\n",
    "# client.list_rows(names_table, max_results=3).to_dataframe()\n",
    "\n",
    "# Cuota de lectura de BigQuery\n",
    "safe_config = bigquery.QueryJobConfig(maximum_bytes_billed=10**10)"
   ]
  },
  {
   "cell_type": "markdown",
   "id": "db63b948",
   "metadata": {},
   "source": [
    "## Métodos útiles"
   ]
  },
  {
   "cell_type": "code",
   "execution_count": 3,
   "id": "87515a61",
   "metadata": {},
   "outputs": [],
   "source": [
    "def get_top_names_decade(decade):\n",
    "    '''  Devuelve un DataFrame con el Top 5 (masculino y femenino) \n",
    "    de nombres mas recurrentes de la década indicada\n",
    "    \n",
    "    @args:\n",
    "        decade: década sobre la que interesa conocer la tendencia de nombres\n",
    "    \n",
    "    >> get_top_names_decade(1910)\n",
    "    DataFrame(name, gender, decade_number, decade_ranking)   \n",
    "    '''\n",
    "    \n",
    "    top_names_decade_query =  '''\n",
    "    SELECT name AS Nombre, \n",
    "           gender AS Genero,\n",
    "           SUM(number) AS NumUsosDecada, \n",
    "           RANK() OVER (\n",
    "               PARTITION BY gender\n",
    "               ORDER BY SUM(number) DESC\n",
    "           ) AS RankingDecada\n",
    "    FROM `bigquery-public-data.usa_names.usa_1910_current`\n",
    "    WHERE year >= @decade AND year < (@decade + 10)\n",
    "    GROUP BY name, gender\n",
    "    ORDER BY RankingDecada ASC\n",
    "    LIMIT 10\n",
    "    '''  \n",
    "    # para pasaje de parametros variables a la query\n",
    "    safe_config.query_parameters = [bigquery.ScalarQueryParameter(\"decade\", \"INT64\", decade)]\n",
    "    \n",
    "    top_names_decade_query_job = client.query(top_names_decade_query, job_config=safe_config)\n",
    "    top_names = top_names_decade_query_job.to_dataframe()\n",
    "    return top_names"
   ]
  },
  {
   "cell_type": "code",
   "execution_count": 4,
   "id": "30064d4d",
   "metadata": {},
   "outputs": [],
   "source": [
    "# No pude resolver que utilice los nombres de top_names_decade\n",
    "# y aca solo consulte su evolucion\n",
    "# Asi que reutilizo codigo y hago aca por completo\n",
    "def get_top_names_decade_evolution(decade):\n",
    "    ''' Devuelve un Dataframe con la evolucion en el tiempo \n",
    "    de los nombres más recurrentes de la década indicada.\n",
    "    \n",
    "    @args:\n",
    "        - decade: década sobre la cual consultar los nombres más recurrentes \n",
    "          (de los cuales luego se analiza su evolcuión en toda la historia)\n",
    "    \n",
    "    >> get_top_names_decade_evolution(1930)\n",
    "    Dataframe(year, name, gender, year_number)\n",
    "    '''\n",
    "    \n",
    "    top_names_decade_evolution_query =  '''\n",
    "    WITH top_names_decade AS (\n",
    "        SELECT name, \n",
    "               gender,\n",
    "               SUM(number) AS decade_number, \n",
    "               RANK() OVER (\n",
    "                   PARTITION BY gender\n",
    "                   ORDER BY SUM(number) DESC\n",
    "               ) AS decade_ranking\n",
    "        FROM `bigquery-public-data.usa_names.usa_1910_current`\n",
    "        WHERE year >= @decade AND year < (@decade + 10)\n",
    "        GROUP BY name, gender\n",
    "        ORDER BY decade_ranking ASC\n",
    "        LIMIT 10\n",
    "    )\n",
    "\n",
    "    SELECT n.year AS Anio, n.name AS Nombre, n.gender AS Genero, SUM(n.number) AS NumUsosAnio    \n",
    "    FROM `bigquery-public-data.usa_names.usa_1910_current` AS n\n",
    "    RIGHT JOIN top_names_decade AS tnd\n",
    "        ON tnd.name = n.name AND tnd.gender = n.gender\n",
    "    GROUP BY n.year, n.name, n.gender\n",
    "    '''  \n",
    "    \n",
    "    # para pasaje de parametros variables a la query\n",
    "    safe_config.query_parameters = [bigquery.ScalarQueryParameter(\"decade\", \"INT64\", decade)]\n",
    "    \n",
    "    top_names_decade_evolution_query_job = client.query(top_names_decade_evolution_query, job_config=safe_config)\n",
    "    top_names_decade_evolution = top_names_decade_evolution_query_job.to_dataframe()\n",
    "    return top_names_decade_evolution    "
   ]
  },
  {
   "cell_type": "code",
   "execution_count": 84,
   "id": "f1678a44",
   "metadata": {},
   "outputs": [],
   "source": [
    "def get_names_evolution():\n",
    "    names_evolution_query = '''\n",
    "    SELECT year, \n",
    "           name,\n",
    "           SUM(number) AS year_number,\n",
    "           RANK() OVER (\n",
    "               PARTITION BY year\n",
    "               ORDER BY SUM(number) DESC\n",
    "           ) AS year_ranking \n",
    "    FROM `bigquery-public-data.usa_names.usa_1910_current`\n",
    "    GROUP BY year, name\n",
    "    ORDER BY year, year_number DESC\n",
    "    '''\n",
    "    \n",
    "    names_evolution_query_job = client.query(names_evolution_query, job_config=safe_config)\n",
    "    names_evolution = names_evolution_query_job.to_dataframe()\n",
    "    return names_evolution\n",
    "\n",
    "\n",
    "def get_selected_name_evolution(search_name):\n",
    "    # capitalizo -> porque asi esta en el Dataset\n",
    "    search_name = search_name.capitalize()\n",
    "    names_evolution = get_names_evolution()\n",
    "    selected_name_evolution = names_evolution[names_evolution['name'] == search_name]\n",
    "       \n",
    "    # Pruebo 'merge' para que el resultado tenga todos los años,\n",
    "    # aunque el nombre no tenga data de algunos\n",
    "    # UPD: al pedo, el ploteo no muestra los NaN (no pone 0, como pense)\n",
    "    # years = pd.Series(range(1910, 2021))\n",
    "    # years_df = pd.DataFrame(data={'year': years})\n",
    "    # result = pd.merge(years_df, selected_name_evolution, on='year', how='left')\n",
    "    return result"
   ]
  },
  {
   "cell_type": "code",
   "execution_count": 6,
   "id": "56220db5",
   "metadata": {},
   "outputs": [
    {
     "name": "stdout",
     "output_type": "stream",
     "text": [
      "[1910, 1920, 1930, 1940, 1950, 1960, 1970, 1980, 1990, 2000, 2010, 2020]\n"
     ]
    }
   ],
   "source": [
    "# ToDo: resolver to_decades()\n",
    "# Por ahora, harcodeo\n",
    "\n",
    "def get_data_decades():\n",
    "    ''' Devuelve los años sobre los que hay información disponible en el Dataset USA_Names.\n",
    "    En particular, en forma de \"décadas\".\n",
    "    \n",
    "    @args:\n",
    "    \n",
    "    >> get_data_decades()\n",
    "    [1910, 1920]\n",
    "    '''\n",
    "    \n",
    "    years_query = '''\n",
    "    SELECT year\n",
    "    FROM `bigquery-public-data.usa_names.usa_1910_current`\n",
    "    GROUP BY year\n",
    "    '''\n",
    "    years_query_job = client.query(years_query, job_config=safe_config)\n",
    "    years = years_query_job.to_dataframe()\n",
    "    \n",
    "    data_decades = to_decades(years.year.to_list())\n",
    "    return data_decades\n",
    "\n",
    "def to_decades(years):\n",
    "    ''' Devuelve un listado de decadas (1910, 1920, ...) a partir de un listado de años recibidos\n",
    "    [1911,1912,1914, 1925,...]\n",
    "    \n",
    "    @args:\n",
    "        years: lista de años sobre los que se calculara las decadas a las que hace alusión\n",
    "    \n",
    "    >> to_decades([1911,1912,1914, 1925,...])\n",
    "    [1910, 1920]\n",
    "    '''\n",
    "    decades = [1910, 1920, 1930,1940, 1950, 1960, 1970, 1980, 1990, 2000, 2010, 2020]\n",
    "    return decades\n",
    "\n",
    "print(get_data_decades())"
   ]
  },
  {
   "cell_type": "code",
   "execution_count": 66,
   "id": "1bc235a2",
   "metadata": {},
   "outputs": [],
   "source": [
    "def get_data_names():\n",
    "    # total de nombres distintos\n",
    "    names_query = '''\n",
    "    SELECT DISTINCT name\n",
    "    FROM `bigquery-public-data.usa_names.usa_1910_current`\n",
    "    ORDER BY name ASC\n",
    "    '''\n",
    "\n",
    "    names_query_job = client.query(names_query, job_config=safe_config)\n",
    "    names = names_query_job.to_dataframe()\n",
    "    \n",
    "    data_names = list(names.name.unique())\n",
    "    return data_names\n",
    "\n",
    "# si el nombre existe dentro del set de datos\n",
    "def exists_name(name):\n",
    "    # capitalizo -> porque asi esta en el Dataset\n",
    "    name = name.capitalize()\n",
    "    return name in data_names"
   ]
  },
  {
   "cell_type": "markdown",
   "id": "b9d332e1",
   "metadata": {},
   "source": [
    "## Buscador por década. Nombres Tendencia\n",
    "Este buscador permite encontrar los 5 nombres femeninos y masculinos más utilizados en la década indicada, y su evolución a lo largo del tiempo."
   ]
  },
  {
   "cell_type": "code",
   "execution_count": 23,
   "id": "eac775a6",
   "metadata": {
    "scrolled": true
   },
   "outputs": [
    {
     "data": {
      "application/vnd.jupyter.widget-view+json": {
       "model_id": "ee4e87f20e75452a8ee13ccff798d820",
       "version_major": 2,
       "version_minor": 0
      },
      "text/plain": [
       "Dropdown(options=(1910, 1920, 1930, 1940, 1950, 1960, 1970, 1980, 1990, 2000, 2010, 2020), value=1910)"
      ]
     },
     "metadata": {},
     "output_type": "display_data"
    }
   ],
   "source": [
    "dropdown_decade = widgets.Dropdown(options=get_data_decades())\n",
    "\n",
    "#captura el valor de la salida -> Lo que se dispara al seleccionar un item del dropdwn\n",
    "output_table = widgets.Output()\n",
    "output_plot = widgets.Output()\n",
    "\n",
    "# handler al seleccionar item del dropdwn\n",
    "def dropdown_decade_eventhandler(change):\n",
    "    output_table.clear_output()\n",
    "    output_plot.clear_output()\n",
    "    \n",
    "    top_names_decade = get_top_names_decade(change.new)\n",
    "    top_names_decade_evolution = get_top_names_decade_evolution(change.new)\n",
    "    \n",
    "    with output_table:\n",
    "        display(top_names_decade)\n",
    "    \n",
    "    with output_plot:\n",
    "        plt.figure(figsize=(8,4))\n",
    "        sns.set_style('whitegrid')\n",
    "        sns.lineplot(x=top_names_decade_evolution.Anio, y=top_names_decade_evolution.NumUsosAnio, hue=top_names_decade_evolution.Nombre)\n",
    "        plt.show()\n",
    "\n",
    "# queda a la espera de un evento en el dropdown        \n",
    "dropdown_decade.observe(dropdown_decade_eventhandler, names='value')\n",
    "display(dropdown_decade)"
   ]
  },
  {
   "cell_type": "code",
   "execution_count": 24,
   "id": "0a192fd3",
   "metadata": {},
   "outputs": [
    {
     "data": {
      "application/vnd.jupyter.widget-view+json": {
       "model_id": "7094d652533547b1bf9ecf5e9a04ac98",
       "version_major": 2,
       "version_minor": 0
      },
      "text/plain": [
       "Output()"
      ]
     },
     "metadata": {},
     "output_type": "display_data"
    },
    {
     "data": {
      "application/vnd.jupyter.widget-view+json": {
       "model_id": "efe15971a3d944a6af4f7aecc89c55da",
       "version_major": 2,
       "version_minor": 0
      },
      "text/plain": [
       "Output()"
      ]
     },
     "metadata": {},
     "output_type": "display_data"
    }
   ],
   "source": [
    "display(output_table)\n",
    "display(output_plot)"
   ]
  },
  {
   "cell_type": "markdown",
   "id": "897b7ab5",
   "metadata": {},
   "source": [
    "## Buscador por Nombre\n",
    "Este nos permite ingresar un nombre y conocer en qué decadas fue tendencia (Top 10), y si no existiera ningún momento en que lo haya sido, indicará cuál fue el año en que más se utilizo y su posición en comparación con el resto.\n",
    "Opcion: que tmb muestre su evolución en el tiempo.\n",
    "Opcion: link a google con el nombre elegido y la decada en que fue tendencia, para tratar de encontrar razones por las que fue trending. Ejemplo: https://www.google.com/search?q=peter+1974"
   ]
  },
  {
   "cell_type": "code",
   "execution_count": 10,
   "id": "cd239229",
   "metadata": {},
   "outputs": [],
   "source": [
    "data_names = get_data_names()"
   ]
  },
  {
   "cell_type": "code",
   "execution_count": 87,
   "id": "2659b32e",
   "metadata": {},
   "outputs": [
    {
     "data": {
      "application/vnd.jupyter.widget-view+json": {
       "model_id": "453e18ec25ca42998937514c6494e2a3",
       "version_major": 2,
       "version_minor": 0
      },
      "text/plain": [
       "Text(value='', placeholder='Escriba un nombre')"
      ]
     },
     "metadata": {},
     "output_type": "display_data"
    },
    {
     "data": {
      "application/vnd.jupyter.widget-view+json": {
       "model_id": "b0aa005a6fd847e8b92544d1a9bd90d6",
       "version_major": 2,
       "version_minor": 0
      },
      "text/plain": [
       "Button(description='Buscar', style=ButtonStyle())"
      ]
     },
     "metadata": {},
     "output_type": "display_data"
    },
    {
     "data": {
      "application/vnd.jupyter.widget-view+json": {
       "model_id": "b314d5866ea648af9c91167f3f1d9a9e",
       "version_major": 2,
       "version_minor": 0
      },
      "text/plain": [
       "Output()"
      ]
     },
     "metadata": {},
     "output_type": "display_data"
    }
   ],
   "source": [
    "textbox_name = widgets.Text(placeholder='Escriba un nombre')\n",
    "btn = widgets.Button(description='Buscar')\n",
    "\n",
    "#captura el valor de la salida -> Lo que se dispara al seleccionar un item del dropdwn\n",
    "output_name_evolution_plot = widgets.Output()\n",
    "\n",
    "# handler al seleccionar item del dropdwn\n",
    "def btn_eventhandler(obj):\n",
    "    output_name_evolution_plot.clear_output()\n",
    "    search_name = textbox_name.value\n",
    "    \n",
    "    with output_name_evolution_plot:\n",
    "        if not exists_name(search_name): \n",
    "            print('El nombre {} no se encuentra en la lista'.format(search_name.capitalize()))\n",
    "            return\n",
    "        \n",
    "        btn.description = 'Buscando...'\n",
    "        selected_name_evolution = get_selected_name_evolution(search_name) \n",
    "        \n",
    "        # graficos de cantidad de usos y ranking\n",
    "        fig, axes = plt.subplots(2,1, sharex=True, figsize=(8,8))\n",
    "        sns.set_style('whitegrid')\n",
    "        sns.lineplot(ax=axes[0], x=selected_name_evolution.year, y=selected_name_evolution.year_number)\n",
    "        sns.lineplot(ax=axes[1], x=selected_name_evolution.year, y=selected_name_evolution.year_ranking)    \n",
    "        \n",
    "        plt.setp(axes[-1], xlabel='Año')\n",
    "        axes[0].set_title('Cantidad de usos a lo largo del tiempo')\n",
    "        axes[1].set_title('Ranking a lo largo del tiempo (usos comparado con el resto)')\n",
    "        axes[0].set_ylabel('Cantidad de usos')\n",
    "        axes[1].set_ylabel('Ranking')\n",
    "        \n",
    "        plt.show()\n",
    "        btn.description = 'Buscar'\n",
    "\n",
    "# queda a la espera de un evento en el dropdown        \n",
    "btn.on_click(btn_eventhandler)\n",
    "display(textbox_name)\n",
    "display(btn)\n",
    "display(output_name_evolution_plot)"
   ]
  },
  {
   "cell_type": "markdown",
   "id": "c25cef58",
   "metadata": {},
   "source": [
    "**ToDo:** agregar un pequeño resumen *highlights* del nombre, indicando el año en que fue más utilizado y su puesto en el ranking."
   ]
  }
 ],
 "metadata": {
  "celltoolbar": "Edit Metadata",
  "kernelspec": {
   "display_name": "Python 3 (ipykernel)",
   "language": "python",
   "name": "python3"
  },
  "language_info": {
   "codemirror_mode": {
    "name": "ipython",
    "version": 3
   },
   "file_extension": ".py",
   "mimetype": "text/x-python",
   "name": "python",
   "nbconvert_exporter": "python",
   "pygments_lexer": "ipython3",
   "version": "3.10.2"
  }
 },
 "nbformat": 4,
 "nbformat_minor": 5
}
