{
 "cells": [
  {
   "cell_type": "markdown",
   "id": "6b18be7e",
   "metadata": {},
   "source": [
    "# Buscador de tendencias de nombres en Estados Unidos (1910-2020)\n",
    "\n",
    "## Carga de datos"
   ]
  },
  {
   "cell_type": "code",
   "execution_count": 3,
   "id": "b7cac375",
   "metadata": {
    "tags": [
     "hide-input"
    ]
   },
   "outputs": [],
   "source": [
    "# librerias a utilizar\n",
    "import pandas as pd\n",
    "from google.cloud import bigquery\n",
    "import matplotlib.pyplot as plt\n",
    "%matplotlib inline\n",
    "import seaborn as sns\n",
    "import ipywidgets as widgets\n",
    "\n",
    "# cliente bigquery para consultar database\n",
    "client = bigquery.Client()\n",
    "\n",
    "# Cargo la tabla de nombres que me interesa\n",
    "dataset_ref = client.dataset('usa_names', project='bigquery-public-data')\n",
    "table_ref = dataset_ref.table('usa_1910_current')\n",
    "names_table = client.get_table(table_ref)\n",
    "                               \n",
    "# Cabecera de la tabla, para inspeccionar datos\n",
    "# client.list_rows(names_table, max_results=3).to_dataframe()\n",
    "\n",
    "# Cuota de lectura de BigQuery\n",
    "safe_config = bigquery.QueryJobConfig(maximum_bytes_billed=10**10)"
   ]
  },
  {
   "cell_type": "markdown",
   "id": "db63b948",
   "metadata": {},
   "source": [
    "## Métodos útiles"
   ]
  },
  {
   "cell_type": "code",
   "execution_count": 4,
   "id": "87515a61",
   "metadata": {},
   "outputs": [],
   "source": [
    "def get_top_names_decade(decade):\n",
    "    '''  Devuelve un DataFrame con el Top 5 (masculino y femenino) \n",
    "    de nombres mas recurrentes de la década indicada\n",
    "    \n",
    "    @args:\n",
    "        decade: década sobre la que interesa conocer la tendencia de nombres\n",
    "    \n",
    "    >> get_top_names_decade(1910)\n",
    "    DataFrame(name, gender, decade_number, decade_ranking)   \n",
    "    '''\n",
    "    \n",
    "    top_names_decade_query =  '''\n",
    "    SELECT name AS Nombre, \n",
    "           gender AS Genero,\n",
    "           SUM(number) AS NumUsosDecada, \n",
    "           RANK() OVER (\n",
    "               PARTITION BY gender\n",
    "               ORDER BY SUM(number) DESC\n",
    "           ) AS RankingDecada\n",
    "    FROM `bigquery-public-data.usa_names.usa_1910_current`\n",
    "    WHERE year >= @decade AND year < (@decade + 10)\n",
    "    GROUP BY name, gender\n",
    "    ORDER BY RankingDecada ASC\n",
    "    LIMIT 10\n",
    "    '''  \n",
    "    # para pasaje de parametros variables a la query\n",
    "    safe_config.query_parameters = [bigquery.ScalarQueryParameter(\"decade\", \"INT64\", decade)]\n",
    "    \n",
    "    top_names_decade_query_job = client.query(top_names_decade_query, job_config=safe_config)\n",
    "    top_names = top_names_decade_query_job.to_dataframe()\n",
    "    return top_names"
   ]
  },
  {
   "cell_type": "code",
   "execution_count": 5,
   "id": "30064d4d",
   "metadata": {},
   "outputs": [],
   "source": [
    "def get_top_names_decade_evolution(decade):\n",
    "    ''' Devuelve un Dataframe con la evolucion en el tiempo \n",
    "    de los nombres más recurrentes de la década indicada.\n",
    "    \n",
    "    @args:\n",
    "        - decade: década sobre la cual consultar los nombres más recurrentes \n",
    "          (de los cuales luego se analiza su evolcuión en toda la historia)\n",
    "    \n",
    "    >> get_top_names_decade_evolution(1930)\n",
    "    Dataframe(year, name, gender, year_number)\n",
    "    '''\n",
    "    \n",
    "    top_names_decade_evolution_query =  '''\n",
    "    WITH top_names_decade AS (\n",
    "        SELECT name, \n",
    "               gender,\n",
    "               SUM(number) AS decade_number, \n",
    "               RANK() OVER (\n",
    "                   PARTITION BY gender\n",
    "                   ORDER BY SUM(number) DESC\n",
    "               ) AS decade_ranking\n",
    "        FROM `bigquery-public-data.usa_names.usa_1910_current`\n",
    "        WHERE year >= @decade AND year < (@decade + 10)\n",
    "        GROUP BY name, gender\n",
    "        ORDER BY decade_ranking ASC\n",
    "        LIMIT 10\n",
    "    )\n",
    "\n",
    "    SELECT n.year AS Anio, n.name AS Nombre, n.gender AS Genero, SUM(n.number) AS NumUsosAnio    \n",
    "    FROM `bigquery-public-data.usa_names.usa_1910_current` AS n\n",
    "    RIGHT JOIN top_names_decade AS tnd\n",
    "        ON tnd.name = n.name AND tnd.gender = n.gender\n",
    "    GROUP BY n.year, n.name, n.gender\n",
    "    '''  \n",
    "    \n",
    "    # para pasaje de parametros variables a la query\n",
    "    safe_config.query_parameters = [bigquery.ScalarQueryParameter(\"decade\", \"INT64\", decade)]\n",
    "    \n",
    "    top_names_decade_evolution_query_job = client.query(top_names_decade_evolution_query, job_config=safe_config)\n",
    "    top_names_decade_evolution = top_names_decade_evolution_query_job.to_dataframe()\n",
    "    return top_names_decade_evolution    "
   ]
  },
  {
   "cell_type": "code",
   "execution_count": 56,
   "id": "f1678a44",
   "metadata": {},
   "outputs": [],
   "source": [
    "def get_names_evolution(names):\n",
    "    ''' Devuelve un Dataframe con la evolución (uso y ranking) año a año de los nombres indicados.\n",
    "    \n",
    "    >> get_names_evolution()\n",
    "    Dataframe(year, name, year_number, year_ranking)\n",
    "    '''\n",
    "    names_evolution_query = '''\n",
    "    WITH all_names_year_number AS (\n",
    "        SELECT year, \n",
    "               name,\n",
    "               SUM(number) AS year_number,\n",
    "               RANK() OVER (\n",
    "                   PARTITION BY year\n",
    "                   ORDER BY SUM(number) DESC\n",
    "              ) AS year_ranking \n",
    "        FROM `bigquery-public-data.usa_names.usa_1910_current`        \n",
    "        GROUP BY year, name     \n",
    "    )\n",
    "    \n",
    "    SELECT year, name, year_number, year_ranking\n",
    "    FROM all_names_year_number\n",
    "    WHERE name IN UNNEST(@names)\n",
    "    GROUP BY year, name, year_number, year_ranking\n",
    "    ORDER BY year, year_number DESC\n",
    "    '''\n",
    "   \n",
    "    if isinstance(names, str): names = [names]\n",
    "    \n",
    "    # para pasaje de parametros variables a la query\n",
    "    safe_config.query_parameters = [bigquery.ArrayQueryParameter(\"names\", \"STRING\", names)]    \n",
    "    \n",
    "    names_evolution_query_job = client.query(names_evolution_query, job_config=safe_config)\n",
    "    names_evolution = names_evolution_query_job.to_dataframe()\n",
    "    return names_evolution\n",
    "\n",
    "\n",
    "def get_selected_name_evolution(search_name):\n",
    "    ''' Devuelve un Dataframe con la evolución (uso y ranking) año a año del nombre indicado\n",
    "    \n",
    "    >> get_names_evolution()\n",
    "    Dataframe(year, name, year_number, year_ranking)\n",
    "    '''\n",
    "    # capitalizo-> asi esta en el dataset\n",
    "    search_name = search_name.capitalize()\n",
    "    selected_name_evolution = get_names_evolution(search_name)\n",
    "    \n",
    "    return selected_name_evolution\n",
    "\n",
    "\n",
    "def get_selected_name_highlights(name_evolution):\n",
    "    ''' Devuelve los valores destacados respecto a la evolución del uso de un nombre en el tiempo: \n",
    "    Cuál fue el año de su máximo uso y mejor ranking\n",
    "    \n",
    "    >> get_selected_name_highlights(selected_name_evolution)\n",
    "    'El nombre John tuvo su máximo uso (29200) en el año 1945 y su mejor ubicación en el ranking (3°) en el año 1960'\n",
    "    '''\n",
    "    name_evolution.set_index('year', inplace=True)\n",
    "    \n",
    "    max_uses = name_evolution.year_number.max()\n",
    "    best_rank = name_evolution.year_ranking.min()\n",
    "    # si uso idxmax() devuelve solo la primer ocurrencia\n",
    "    max_uses_year = list(name_evolution[name_evolution.year_number == max_uses].index.values)\n",
    "    best_rank_year = list(name_evolution[name_evolution.year_ranking == best_rank].index.values)\n",
    "    \n",
    "    highlights = pd.DataFrame(data={\n",
    "        'Valor': [max_uses, best_rank],\n",
    "        'Año': [max_uses_year, best_rank_year],  \n",
    "    }, index=['Máximo uso', 'Mejor ranking'])\n",
    "    \n",
    "    return highlights"
   ]
  },
  {
   "cell_type": "code",
   "execution_count": 7,
   "id": "56220db5",
   "metadata": {},
   "outputs": [],
   "source": [
    "# ToDo: resolver to_decades()\n",
    "# Por ahora, harcodeo\n",
    "\n",
    "def get_data_decades():\n",
    "    ''' Devuelve los años sobre los que hay información disponible en el Dataset USA_Names.\n",
    "    En particular, en forma de \"décadas\".\n",
    "    \n",
    "    @args:\n",
    "    \n",
    "    >> get_data_decades()\n",
    "    [1910, 1920]\n",
    "    '''\n",
    "    \n",
    "    years_query = '''\n",
    "    SELECT year\n",
    "    FROM `bigquery-public-data.usa_names.usa_1910_current`\n",
    "    GROUP BY year\n",
    "    '''\n",
    "    years_query_job = client.query(years_query, job_config=safe_config)\n",
    "    years = years_query_job.to_dataframe()\n",
    "    \n",
    "    data_decades = to_decades(years.year.to_list())\n",
    "    return data_decades\n",
    "\n",
    "def to_decades(years):\n",
    "    ''' Devuelve un listado de decadas (1910, 1920, ...) a partir de un listado de años recibidos\n",
    "    [1911,1912,1914, 1925,...]\n",
    "    \n",
    "    @args:\n",
    "        years: lista de años sobre los que se calculara las decadas a las que hace alusión\n",
    "    \n",
    "    >> to_decades([1911,1912,1914, 1925,...])\n",
    "    [1910, 1920]\n",
    "    '''\n",
    "    decades = [1910, 1920, 1930,1940, 1950, 1960, 1970, 1980, 1990, 2000, 2010, 2020]\n",
    "    return decades"
   ]
  },
  {
   "cell_type": "code",
   "execution_count": 8,
   "id": "1bc235a2",
   "metadata": {},
   "outputs": [],
   "source": [
    "def get_data_names():\n",
    "    ''' Devuelve un listado de los diferentes nombres registrados en el dataset.\n",
    "    \n",
    "    >> get_data_names()\n",
    "    ['Abel', 'Anna']\n",
    "    '''\n",
    "    \n",
    "    names_query = '''\n",
    "    SELECT DISTINCT name\n",
    "    FROM `bigquery-public-data.usa_names.usa_1910_current`\n",
    "    ORDER BY name ASC\n",
    "    '''\n",
    "\n",
    "    names_query_job = client.query(names_query, job_config=safe_config)\n",
    "    names = names_query_job.to_dataframe()\n",
    "    \n",
    "    data_names = list(names.name.unique())\n",
    "    return data_names\n",
    "\n",
    "def exists_name(name):\n",
    "    # si el nombre existe dentro del set de datos\n",
    "    # ToDo: formatear llevando todo a to_lower()\n",
    "    name = name.capitalize()\n",
    "    return name in data_names"
   ]
  },
  {
   "cell_type": "markdown",
   "id": "b9d332e1",
   "metadata": {},
   "source": [
    "## Buscador por década. Nombres Tendencia\n",
    "Este buscador permite encontrar los 5 nombres femeninos y masculinos más utilizados en la década indicada, y su evolución a lo largo del tiempo."
   ]
  },
  {
   "cell_type": "code",
   "execution_count": 58,
   "id": "eac775a6",
   "metadata": {
    "scrolled": true
   },
   "outputs": [
    {
     "data": {
      "application/vnd.jupyter.widget-view+json": {
       "model_id": "9e7e4bb830144b5a82dcfe9bfadc3693",
       "version_major": 2,
       "version_minor": 0
      },
      "text/plain": [
       "Dropdown(options=(1910, 1920, 1930, 1940, 1950, 1960, 1970, 1980, 1990, 2000, 2010, 2020), value=1910)"
      ]
     },
     "metadata": {},
     "output_type": "display_data"
    }
   ],
   "source": [
    "dropdown_decade = widgets.Dropdown(options=get_data_decades())\n",
    "\n",
    "#captura el valor de la salida -> Lo que se dispara al seleccionar un item del dropdwn\n",
    "output_table = widgets.Output()\n",
    "output_plot = widgets.Output()\n",
    "\n",
    "# handler al seleccionar item del dropdwn\n",
    "def dropdown_decade_eventhandler(change):\n",
    "    output_table.clear_output()\n",
    "    output_plot.clear_output()\n",
    "    \n",
    "    top_names_decade = get_top_names_decade(change.new)\n",
    "    top_names_decade_evolution = get_top_names_decade_evolution(change.new)\n",
    "    \n",
    "    with output_table:\n",
    "        display(top_names_decade)\n",
    "    \n",
    "    with output_plot:\n",
    "        plt.figure(figsize=(8,4))\n",
    "        sns.set_style('whitegrid')\n",
    "        sns.lineplot(x=top_names_decade_evolution.Anio, y=top_names_decade_evolution.NumUsosAnio, hue=top_names_decade_evolution.Nombre)\n",
    "        plt.title('Usos del top 5 de la década {} a lo largo de los años'.format(change.new))\n",
    "        plt.xlabel('Año')\n",
    "        plt.ylabel('cantidad de usos')\n",
    "        plt.show()\n",
    "\n",
    "# queda a la espera de un evento en el dropdown        \n",
    "dropdown_decade.observe(dropdown_decade_eventhandler, names='value')\n",
    "display(dropdown_decade)"
   ]
  },
  {
   "cell_type": "code",
   "execution_count": 59,
   "id": "0a192fd3",
   "metadata": {},
   "outputs": [
    {
     "data": {
      "application/vnd.jupyter.widget-view+json": {
       "model_id": "8905908ec4364a1b98a6a655b2290852",
       "version_major": 2,
       "version_minor": 0
      },
      "text/plain": [
       "Output()"
      ]
     },
     "metadata": {},
     "output_type": "display_data"
    },
    {
     "data": {
      "application/vnd.jupyter.widget-view+json": {
       "model_id": "2285b45f162a426f98f3d2546beef3a8",
       "version_major": 2,
       "version_minor": 0
      },
      "text/plain": [
       "Output()"
      ]
     },
     "metadata": {},
     "output_type": "display_data"
    }
   ],
   "source": [
    "display(output_table)\n",
    "display(output_plot)"
   ]
  },
  {
   "cell_type": "markdown",
   "id": "897b7ab5",
   "metadata": {},
   "source": [
    "## Buscador por Nombre\n",
    "Este nos permite ingresar un nombre y conocer la evolución de su uso a lo largo del tiempo, además del ranking ocupado en comparación con el resto de los nombres."
   ]
  },
  {
   "cell_type": "code",
   "execution_count": 60,
   "id": "cd239229",
   "metadata": {},
   "outputs": [],
   "source": [
    "data_names = get_data_names()"
   ]
  },
  {
   "cell_type": "code",
   "execution_count": 62,
   "id": "2659b32e",
   "metadata": {},
   "outputs": [
    {
     "data": {
      "application/vnd.jupyter.widget-view+json": {
       "model_id": "11cff9e0081a4cdc88b09fa2550c7780",
       "version_major": 2,
       "version_minor": 0
      },
      "text/plain": [
       "Text(value='', placeholder='Escriba un nombre')"
      ]
     },
     "metadata": {},
     "output_type": "display_data"
    },
    {
     "data": {
      "application/vnd.jupyter.widget-view+json": {
       "model_id": "342da940f37944128e3ef527473154b3",
       "version_major": 2,
       "version_minor": 0
      },
      "text/plain": [
       "Button(description='Buscar', style=ButtonStyle())"
      ]
     },
     "metadata": {},
     "output_type": "display_data"
    },
    {
     "data": {
      "application/vnd.jupyter.widget-view+json": {
       "model_id": "adaa6269b63c40f984ee023d8b92d065",
       "version_major": 2,
       "version_minor": 0
      },
      "text/plain": [
       "Output()"
      ]
     },
     "metadata": {},
     "output_type": "display_data"
    },
    {
     "data": {
      "application/vnd.jupyter.widget-view+json": {
       "model_id": "bbe8904379b346eb86e5dad088e97aca",
       "version_major": 2,
       "version_minor": 0
      },
      "text/plain": [
       "Output()"
      ]
     },
     "metadata": {},
     "output_type": "display_data"
    }
   ],
   "source": [
    "textbox_name = widgets.Text(placeholder='Escriba un nombre')\n",
    "btn = widgets.Button(description='Buscar')\n",
    "\n",
    "#captura el valor de la salida -> Lo que se dispara al seleccionar un item del dropdwn\n",
    "output_name_evolution_plot = widgets.Output()\n",
    "output_highlights = widgets.Output()\n",
    "\n",
    "# handler al seleccionar item del dropdwn\n",
    "def btn_eventhandler(obj):\n",
    "    output_name_evolution_plot.clear_output()\n",
    "    output_highlights.clear_output()\n",
    "    search_name = textbox_name.value\n",
    "    \n",
    "    with output_name_evolution_plot:\n",
    "        if not exists_name(search_name): \n",
    "            print('El nombre {} no se encuentra en la lista'.format(search_name.capitalize()))\n",
    "            return\n",
    "        \n",
    "        btn.description = 'Buscando...'\n",
    "        selected_name_evolution = get_selected_name_evolution(search_name) \n",
    "        \n",
    "        # graficos de cantidad de usos y ranking\n",
    "        fig, axes = plt.subplots(2,1, figsize=(8,8))\n",
    "        sns.set_style('whitegrid')\n",
    "        sns.lineplot(ax=axes[0], x=selected_name_evolution.year, y=selected_name_evolution.year_number)\n",
    "        sns.lineplot(ax=axes[1], x=selected_name_evolution.year, y=selected_name_evolution.year_ranking)    \n",
    "        \n",
    "        plt.setp(axes[-1], xlabel='Año')\n",
    "        axes[0].set_title('Cantidad de usos a lo largo del tiempo')\n",
    "        axes[1].set_title('Ranking a lo largo del tiempo (usos comparado con el resto)')\n",
    "        axes[0].set_ylabel('Cantidad de usos')\n",
    "        axes[1].set_ylabel('Ranking')\n",
    "        \n",
    "        plt.show()\n",
    "        btn.description = 'Buscar'\n",
    "    \n",
    "    with output_highlights:\n",
    "        display(get_selected_name_highlights(selected_name_evolution))\n",
    "\n",
    "# queda a la espera de un evento en el dropdown        \n",
    "btn.on_click(btn_eventhandler)\n",
    "display(textbox_name)\n",
    "display(btn)\n",
    "display(output_name_evolution_plot)\n",
    "display(output_highlights)"
   ]
  }
 ],
 "metadata": {
  "kernelspec": {
   "display_name": "Python 3 (ipykernel)",
   "language": "python",
   "name": "python3"
  },
  "language_info": {
   "codemirror_mode": {
    "name": "ipython",
    "version": 3
   },
   "file_extension": ".py",
   "mimetype": "text/x-python",
   "name": "python",
   "nbconvert_exporter": "python",
   "pygments_lexer": "ipython3",
   "version": "3.10.2"
  }
 },
 "nbformat": 4,
 "nbformat_minor": 5
}
