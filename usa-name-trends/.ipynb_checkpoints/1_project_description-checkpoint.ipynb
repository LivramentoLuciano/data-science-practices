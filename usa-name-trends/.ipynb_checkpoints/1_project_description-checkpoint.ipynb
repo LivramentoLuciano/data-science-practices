{
 "cells": [
  {
   "cell_type": "markdown",
   "id": "4b1712a6",
   "metadata": {},
   "source": [
    "# Tendencias de Nombres en Estados Unidos (1910-2020)\n",
    "Este proyecto se basa en la construcción de un buscador de tendencias en los nombres de personas en los Estados Unidos, desde el 1910 a la actualidad, a partir de los datos públicos disponibles en [USA Name Data](https://www.kaggle.com/datasets/datagov/usa-names?select=usa_1910_current) (*Dataset* de *BigQuery*).\n",
    "\n",
    "## Funcionalidad\n",
    "Esta pequeña aplicación consta de 2 buscadores:\n",
    "- **Buscador de nombres tendencia de cada década:** simplemente se selecciona una década e indicará los 5 nombres masculinos y femeninos más recurrentes en la misma.\n",
    "- **Buscador por nombre:** por medio de este se puede ingresar un nombre y el programa nos mostrará la evolución de su uso a lo largo del tiempo, tanto en cantidad como en ranking correspondiente (cantidad en comparación con el resto de los nombres del mismo año).\n",
    "\n",
    "ToDo's: \n",
    "- Timelapse: gráfico dinámico con el ranking top 5 de nombres tendencia a lo largo del tiempo (que se pueda observar como cada nombre va bajando/subiendo en el ranking al pasar los años, o bien como nuevos nombres aparecen en el ranking).\n",
    "- Buscar forma de presentar al usuario sugerencias sobre el por qué un nombre fue tendencia en cierta época (ejemplo, Diana -> Lady di)\n",
    "\n",
    "## Contenido adicional. Estructura.\n",
    "Además de la pequeña aplicación interactiva, este proyecto cuenta con un análisis completo de los datos en cuestión. Para una mejor comprensión de este análisis, se dividió al mismo en 2 archivos:\n",
    "- *data_analysis_overview*\n",
    "- *names_analysis*\n",
    "\n",
    "### Data Analysis Overview\n",
    "En este archivo se puede encontrar un análisis demográfico exhaustivo con todo tipo de gráficos, echando luz sobre distintos aspectos de la natalidad en Estados Unidos, a lo largo de los años y de su geografía. Se pueden observar cuestiones como:\n",
    "- Cantidad de nacimientos registrados desde 1910.\n",
    "    - Distinción por género. Acumulado total y evolución anual.\n",
    "    - Distinción por Estado. Evolución anual de cada Estado. Análisis particular de los Estados con mayor cantidad de nacimientos registrados.\n",
    "    - Combinación de anteriores, observando evolución anual y por Estado de la relación hombres/mujeres nacidxs.\n",
    "    \n",
    "### Names Analysis\n",
    "Por otra parte, en este archivo el análisis se centra en los nombres elegidos por los estadounidendes, observándose cuestiones como:\n",
    "- Cantidad total de nombres utilizados en la historia. Distinción por género.\n",
    "- Evolución en el tiempo de la variedad de nombres utilizados. Distinción por género.\n",
    "- Nombres más utilizados en la historia y en la actualidad. \n",
    "    - Evolución a lo largo del tiempo.\n",
    "    - Uso a lo largo del territorio.\n",
    "\n",
    "## Tecnologías aplicadas\n",
    "Entre las herramientas tecnológicas utilizadas, se pueden destacar:\n",
    "- SQL/BigQuery\n",
    "- Python/Seaborn/GUI (Interface)"
   ]
  },
  {
   "cell_type": "code",
   "execution_count": null,
   "id": "8b3bbfeb",
   "metadata": {},
   "outputs": [],
   "source": []
  }
 ],
 "metadata": {
  "kernelspec": {
   "display_name": "Python 3 (ipykernel)",
   "language": "python",
   "name": "python3"
  },
  "language_info": {
   "codemirror_mode": {
    "name": "ipython",
    "version": 3
   },
   "file_extension": ".py",
   "mimetype": "text/x-python",
   "name": "python",
   "nbconvert_exporter": "python",
   "pygments_lexer": "ipython3",
   "version": "3.10.2"
  }
 },
 "nbformat": 4,
 "nbformat_minor": 5
}
